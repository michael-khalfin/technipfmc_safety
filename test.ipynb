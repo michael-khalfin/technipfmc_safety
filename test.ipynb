{
 "cells": [
  {
   "cell_type": "code",
   "execution_count": null,
   "id": "97e43aa4",
   "metadata": {},
   "outputs": [
    {
     "name": "stdout",
     "output_type": "stream",
     "text": [
      " 你好！我是一个AI助手，能帮您解答问题、提供信息和完成日常任务。我可以帮您转换单位、计算数学问题、查找历史事件等等，同时还能为您生成文字、设置时钟、翻译语言等等。请问有什么需要我帮忙的吗？\n"
     ]
    }
   ],
   "source": [
    "import requests\n",
    "\n",
    "resp = requests.post(\n",
    "    \"http://localhost:11434/api/chat\",\n",
    "    json={\n",
    "        \"model\": \"mistral\",\n",
    "        \"messages\": [\n",
    "            {\"role\": \"user\", \"content\": \"你好，介绍一下你自己\"}\n",
    "        ],\n",
    "        \"stream\": False  \n",
    "    },\n",
    "    timeout=120\n",
    ")\n",
    "print(resp.json()[\"message\"][\"content\"])\n"
   ]
  },
  {
   "cell_type": "code",
   "execution_count": null,
   "id": "4c0f8edd",
   "metadata": {},
   "outputs": [],
   "source": []
  }
 ],
 "metadata": {
  "kernelspec": {
   "display_name": ".venv",
   "language": "python",
   "name": "python3"
  },
  "language_info": {
   "codemirror_mode": {
    "name": "ipython",
    "version": 3
   },
   "file_extension": ".py",
   "mimetype": "text/x-python",
   "name": "python",
   "nbconvert_exporter": "python",
   "pygments_lexer": "ipython3",
   "version": "3.11.5"
  }
 },
 "nbformat": 4,
 "nbformat_minor": 5
}
