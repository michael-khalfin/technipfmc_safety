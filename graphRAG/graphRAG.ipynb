{
 "cells": [
  {
   "cell_type": "code",
   "execution_count": null,
   "id": "202213e5",
   "metadata": {},
   "outputs": [],
   "source": [
    "pip install graphrag\n",
    "pip install dotenv "
   ]
  },
  {
   "cell_type": "code",
   "execution_count": 1,
   "id": "b6bd9ce3",
   "metadata": {},
   "outputs": [],
   "source": [
    "import pandas as pd\n",
    "import os\n",
    "from dotenv import load_dotenv"
   ]
  },
  {
   "cell_type": "code",
   "execution_count": 5,
   "id": "9311ec33",
   "metadata": {},
   "outputs": [
    {
     "name": "stdout",
     "output_type": "stream",
     "text": [
      "original data: ../data/combined.csv\n",
      "Processing data, converting each line into a document...\n",
      "Name: incident no.10009-injury/illness-09/jun/2022 11:00:00 am-agotnes facility, agotnes, norway, europe, technipfmc-\n",
      "Incident No Injury Illness: 10009.0\n",
      "Incident Type Injury Illness: Injury/Illness\n",
      "Injury Illness Indicator Injury Illness: 1.0\n",
      "Injury Occupational Illness Injury Illness: Injury -  First Aid Treatment (FAT)\n",
      "Actual Severity Injury Illness: Level 1 - Negligible - Injury, disorder or illness requiring first aid care and return to normal work duty with no medical treatment.\n",
      "Actual Severity Value Injury Illness: 1.0\n",
      "Actual Severity Level Injury Illness: Level 1 - Negligible\n",
      "Worker Type Injury Illness: Permanent\n",
      "Injury Category Injury Illness: FAT\n",
      "Hurts Injury Illness: Hurt\n",
      "Master Record No Injury Illness: 10008.0\n",
      "Injury Indicator Injury Illness: 1.0\n",
      "Recordable Indicator Injury Illness: 0.0\n",
      "Hurt Indicator Injury Illness: 1.0\n",
      "Fat Indicator Injury Illness: 1.0\n",
      "Mti Indicator Injury Illness: 0.0\n",
      "Rwc Indicator Injury Illness: 0.0\n",
      "Lti Indicator Injury Illness: 0.0\n",
      "Fatality Indicator Injury Illness: 0.0\n",
      "System Of Record Injury Illness: Intelex\n"
     ]
    }
   ],
   "source": [
    "input_csv_path = '../data/combined.csv'\n",
    "processed_csv_path = '../data/processed_incidents.csv'\n",
    "print(f\"original data: {input_csv_path}\")\n",
    "df = pd.read_csv(input_csv_path, low_memory=False)\n",
    "\n",
    "# Merge the non-empty information of each line into a single text string\n",
    "def create_document_text(row):\n",
    "    text_parts = []\n",
    "    for col, value in row.items():\n",
    "        if pd.notna(value) and str(value).strip() != '':\n",
    "            # clean col name\n",
    "            clean_col = col.replace('__', ' ').replace('_', ' ').title()\n",
    "            text_parts.append(f\"{clean_col}: {value}\")\n",
    "    return \"\\n\".join(text_parts)\n",
    "\n",
    "print(\"Processing data, converting each line into a document...\")\n",
    "df['document_text'] = df.apply(create_document_text, axis=1)\n",
    "\n",
    "processed_df = df[['document_text']].copy()\n",
    "processed_df.to_csv(processed_csv_path, index=False)\n",
    "print(processed_df.head(1)['document_text'].iloc[0])"
   ]
  },
  {
   "cell_type": "code",
   "execution_count": 22,
   "id": "1f64e9b6",
   "metadata": {},
   "outputs": [
    {
     "name": "stdout",
     "output_type": "stream",
     "text": [
      "start graphRAG...\n",
      "Failed to complete the process.\n"
     ]
    },
    {
     "name": "stderr",
     "output_type": "stream",
     "text": [
      "Traceback (most recent call last):\n",
      "  File \"/tmp/ipykernel_3045244/1231636690.py\", line 13, in <module>\n",
      "    run(config_or_path=config_path, root_dir=root_dir, memory_override=None)\n",
      "TypeError: 'module' object is not callable\n"
     ]
    }
   ],
   "source": [
    "from graphrag.index import run\n",
    "\n",
    "config_path = \"config.yml\"\n",
    "root_dir = \".\" \n",
    "\n",
    "print(\"start graphRAG...\")\n",
    "\n",
    "# 运行核心流程\n",
    "# 这个函数会读取 config.yml，找到 input 文件，然后执行所有启用的步骤\n",
    "# 结果会被保存在 config.yml 中定义的 output/ 文件夹中\n",
    "# result = await run_pipeline_with_config(config_path, root_dir=root_dir, memory_override=None)\n",
    "try:\n",
    "    run(config_or_path=config_path, root_dir=root_dir, memory_override=None)\n",
    "    print(\"process completed\")\n",
    "    print(f\"The results have been saved in the '{root_dir}/output' folder. You can view the reports and graph data inside\")\n",
    "\n",
    "except Exception as e:\n",
    "    print(\"Failed to complete the process.\")\n",
    "    import traceback\n",
    "    traceback.print_exc()\n"
   ]
  }
 ],
 "metadata": {
  "kernelspec": {
   "display_name": "Python 3",
   "language": "python",
   "name": "python3"
  },
  "language_info": {
   "codemirror_mode": {
    "name": "ipython",
    "version": 3
   },
   "file_extension": ".py",
   "mimetype": "text/x-python",
   "name": "python",
   "nbconvert_exporter": "python",
   "pygments_lexer": "ipython3",
   "version": "3.11.5"
  }
 },
 "nbformat": 4,
 "nbformat_minor": 5
}
