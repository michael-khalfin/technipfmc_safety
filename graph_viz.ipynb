{
 "cells": [
  {
   "cell_type": "markdown",
   "id": "19dd3505",
   "metadata": {},
   "source": [
    "\n",
    "# GraphRAG Parquet → Graph Visualization (NetworkX + PyVis)\n",
    "\n",
    "This notebook loads GraphRAG parquet outputs (entities, relationships, communities, etc.), builds a graph, and visualizes it:\n",
    "\n",
    "**What you'll get**\n",
    "- Node/edge counts and quick sanity checks\n",
    "- A NetworkX graph from `entities.parquet` + `relationships.parquet`\n",
    "- Static matplotlib drawing for a filtered subgraph\n",
    "- An interactive HTML graph via **PyVis** (easy to explore/zoom/drag)\n",
    "- Optional: export CSVs for Neo4j import (if you want to explore in Neo4j)\n",
    "\n",
    "> Tip: If graph is large, start with a small `TOP_N_NODES` or a higher `MIN_EDGE_WEIGHT` to keep drawings fast.\n"
   ]
  },
  {
   "cell_type": "code",
   "execution_count": 1,
   "id": "06235e02",
   "metadata": {},
   "outputs": [],
   "source": [
    "\n",
    "# --- Config ---\n",
    "OUTPUT_DIR = \"./output\"        # path to GraphRAG output dir\n",
    "VIZ_DIR = f\"{OUTPUT_DIR}/_viz\"           # where to save visualizations\n",
    "MIN_EDGE_WEIGHT = 0.0                    # filter out weak edges (>= this weight)\n",
    "TOP_N_NODES = 150                        # build a subgraph with top-N nodes by degree for plotting (None for all)\n",
    "SEED = 42\n"
   ]
  },
  {
   "cell_type": "code",
   "execution_count": 2,
   "id": "24ae88c3",
   "metadata": {},
   "outputs": [
    {
     "name": "stdout",
     "output_type": "stream",
     "text": [
      "Exists:\n",
      "  output\\entities.parquet: True\n",
      "  output\\relationships.parquet: True\n",
      "  output\\communities.parquet: True\n",
      "  output\\community_reports.parquet: True\n"
     ]
    }
   ],
   "source": [
    "\n",
    "import os\n",
    "from pathlib import Path\n",
    "import math\n",
    "import pandas as pd\n",
    "import numpy as np\n",
    "import networkx as nx\n",
    "import matplotlib.pyplot as plt\n",
    "\n",
    "# Optional but nice: interactive HTML\n",
    "try:\n",
    "    from pyvis.network import Network\n",
    "    HAS_PYVIS = True\n",
    "except Exception:\n",
    "    HAS_PYVIS = False\n",
    "\n",
    "Path(VIZ_DIR).mkdir(parents=True, exist_ok=True)\n",
    "\n",
    "entities_pq = Path(OUTPUT_DIR) / \"entities.parquet\"\n",
    "rels_pq     = Path(OUTPUT_DIR) / \"relationships.parquet\"\n",
    "comms_pq    = Path(OUTPUT_DIR) / \"communities.parquet\"\n",
    "commrep_pq  = Path(OUTPUT_DIR) / \"community_reports.parquet\"\n",
    "\n",
    "print(\"Exists:\")\n",
    "for p in [entities_pq, rels_pq, comms_pq, commrep_pq]:\n",
    "    print(f\"  {p}: {p.exists()}\")\n"
   ]
  },
  {
   "cell_type": "code",
   "execution_count": null,
   "id": "5a95b82f",
   "metadata": {},
   "outputs": [
    {
     "name": "stdout",
     "output_type": "stream",
     "text": [
      "entities columns: ['id', 'human_readable_id', 'title', 'type', 'description', 'text_unit_ids', 'frequency', 'degree', 'x', 'y']\n",
      "relationships columns: ['id', 'human_readable_id', 'source', 'target', 'description', 'weight', 'combined_degree', 'text_unit_ids']\n",
      "communities columns: ['id', 'human_readable_id', 'community', 'level', 'parent', 'children', 'title', 'entity_ids', 'relationship_ids', 'text_unit_ids', 'period', 'size']\n",
      "\n",
      "Counts:\n",
      "  entities: 8\n",
      "  relationships: 7\n",
      "  communities: 1\n"
     ]
    }
   ],
   "source": [
    "\n",
    "# --- Load parquet files ---\n",
    "import pyarrow\n",
    "\n",
    "entities = pd.read_parquet(entities_pq) if entities_pq.exists() else pd.DataFrame()\n",
    "rels = pd.read_parquet(rels_pq) if rels_pq.exists() else pd.DataFrame()\n",
    "comms = pd.read_parquet(comms_pq) if comms_pq.exists() else pd.DataFrame()\n",
    "\n",
    "print(\"entities columns:\", list(entities.columns))\n",
    "print(\"relationships columns:\", list(rels.columns))\n",
    "print(\"communities columns:\", list(comms.columns))\n",
    "\n",
    "print(\"\\nCounts:\")\n",
    "print(\"  entities:\", len(entities))\n",
    "print(\"  relationships:\", len(rels))\n",
    "print(\"  communities:\", len(comms))\n"
   ]
  },
  {
   "cell_type": "markdown",
   "id": "5072a77a",
   "metadata": {},
   "source": [
    "\n",
    "## Build a NetworkX graph\n",
    "\n",
    "We'll assume the standard GraphRAG schema:\n",
    "- `entities.parquet` has a unique `id` per entity, plus fields like `title`, `type` (person/org/geo/event), etc.\n",
    "- `relationships.parquet` references two entities via columns like `source_id` and `target_id`, and commonly has a numeric `weight` and a `description`.\n",
    "> If your column names differ, tweak the mapping below.\n"
   ]
  },
  {
   "cell_type": "code",
   "execution_count": 7,
   "id": "4dbe1f9e",
   "metadata": {},
   "outputs": [
    {
     "name": "stdout",
     "output_type": "stream",
     "text": [
      "Using -> SRC:source, TGT:target, W:weight, LBL:description, ENT_KEY:title\n",
      "Graph built: Nodes=8, Edges=7\n",
      "Edges added=7, missing_src=0, missing_tgt=0\n"
     ]
    }
   ],
   "source": [
    "# --- choose consistent columns ---\n",
    "ents = pd.read_parquet(Path(OUTPUT_DIR) / \"entities.parquet\")\n",
    "rels = pd.read_parquet(Path(OUTPUT_DIR) / \"relationships.parquet\")\n",
    "# 关系表端点列\n",
    "SRC = next(c for c in [\"source_id\",\"source\",\"src_id\",\"head_id\"] if c in rels.columns)\n",
    "TGT = next(c for c in [\"target_id\",\"target\",\"dst_id\",\"tail_id\"] if c in rels.columns)\n",
    "W   = next((c for c in [\"weight\",\"edge_weight\",\"strength\"] if c in rels.columns), None)\n",
    "LBL = next((c for c in [\"description\",\"relation\",\"type\",\"label\"] if c in rels.columns), None)\n",
    "\n",
    "# 实体表里用哪个“名字”当作节点键，尽量能匹配到 relationships 的 source/target\n",
    "ENT_KEY = next((c for c in [\"title\",\"name\",\"human_readable_id\",\"label\"] if c in ents.columns), \"id\")\n",
    "\n",
    "print(f\"Using -> SRC:{SRC}, TGT:{TGT}, W:{W}, LBL:{LBL}, ENT_KEY:{ENT_KEY}\")\n",
    "\n",
    "# 做一下大小写统一，避免 'Scrooge' vs 'SCROOGE'\n",
    "def norm(x):\n",
    "    return str(x).strip().upper()\n",
    "\n",
    "rels[\"_src_key\"] = rels[SRC].map(norm)\n",
    "rels[\"_tgt_key\"] = rels[TGT].map(norm)\n",
    "\n",
    "ents[\"_ent_key\"] = ents[ENT_KEY].map(norm)\n",
    "\n",
    "# 如果 ENT_KEY 不是唯一的，先去重（通常是唯一）\n",
    "ents_unique = ents.drop_duplicates(\"_ent_key\").copy()\n",
    "key_set = set(ents_unique[\"_ent_key\"])\n",
    "\n",
    "# --- build graph ---\n",
    "G = nx.Graph()\n",
    "\n",
    "# 先按“统一后的名字”加节点，这样和边能对上\n",
    "for _, row in ents_unique.iterrows():\n",
    "    node_key = row[\"_ent_key\"]\n",
    "    attrs = row.drop(labels=[\"_ent_key\"]).to_dict()\n",
    "    G.add_node(node_key, **attrs)\n",
    "\n",
    "missing_src = 0\n",
    "missing_tgt = 0\n",
    "added_edges = 0\n",
    "\n",
    "for _, r in rels.iterrows():\n",
    "    s = r[\"_src_key\"]; t = r[\"_tgt_key\"]\n",
    "    if s not in key_set: missing_src += 1\n",
    "    if t not in key_set: missing_tgt += 1\n",
    "    # 即使缺失也先加，NetworkX 会自动补节点，但我们更希望都在实体表里\n",
    "    data = {}\n",
    "    if W is not None:   data[\"weight\"] = float(r[W])\n",
    "    if LBL is not None: data[\"label\"]  = str(r[LBL])\n",
    "    G.add_edge(s, t, **data)\n",
    "    added_edges += 1\n",
    "\n",
    "print(f\"Graph built: Nodes={G.number_of_nodes()}, Edges={G.number_of_edges()}\")\n",
    "print(f\"Edges added={added_edges}, missing_src={missing_src}, missing_tgt={missing_tgt}\")\n",
    "\n",
    "# 如果你更想用实体 UUID 做节点键，也可以把 relationships 的 source/target 先 join 到实体表，改成 UUID 再建图。\n"
   ]
  },
  {
   "cell_type": "code",
   "execution_count": 4,
   "id": "7738ec4e",
   "metadata": {},
   "outputs": [
    {
     "name": "stdout",
     "output_type": "stream",
     "text": [
      "Using columns -> SRC: source, TGT: target, WEIGHT: weight, LABEL: description\n"
     ]
    }
   ],
   "source": [
    "\n",
    "# --- Column name mapping (adjust if your schema differs) ---\n",
    "# Try to infer common names:\n",
    "src_col_candidates = [\"source_id\", \"source\", \"src_id\", \"head_id\"]\n",
    "tgt_col_candidates = [\"target_id\", \"target\", \"dst_id\", \"tail_id\"]\n",
    "w_col_candidates   = [\"weight\", \"edge_weight\", \"strength\"]\n",
    "label_candidates   = [\"description\", \"relation\", \"type\", \"label\"]\n",
    "\n",
    "def first_existing(cols, candidates):\n",
    "    for c in candidates:\n",
    "        if c in cols:\n",
    "            return c\n",
    "    return None\n",
    "\n",
    "rel_cols = set(rels.columns)\n",
    "SRC = first_existing(rel_cols, src_col_candidates)\n",
    "TGT = first_existing(rel_cols, tgt_col_candidates)\n",
    "W   = first_existing(rel_cols, w_col_candidates)\n",
    "LBL = first_existing(rel_cols, label_candidates)\n",
    "\n",
    "if SRC is None or TGT is None:\n",
    "    raise ValueError(\"Could not find source/target columns in relationships parquet. Please adjust mapping above.\")\n",
    "\n",
    "print(f\"Using columns -> SRC: {SRC}, TGT: {TGT}, WEIGHT: {W}, LABEL: {LBL}\")\n"
   ]
  },
  {
   "cell_type": "code",
   "execution_count": 8,
   "id": "06ae20de",
   "metadata": {},
   "outputs": [
    {
     "name": "stdout",
     "output_type": "stream",
     "text": [
      "Using subgraph for plotting: Nodes=8, Edges=7\n"
     ]
    },
    {
     "data": {
      "image/png": "[encoded data removed]",
      "text/plain": [
       "<Figure size 1200x800 with 1 Axes>"
      ]
     },
     "metadata": {},
     "output_type": "display_data"
    },
    {
     "name": "stdout",
     "output_type": "stream",
     "text": [
      "Saved static plot to ./output/_viz/graph_static.png\n"
     ]
    }
   ],
   "source": [
    "\n",
    "# --- Prepare a filtered subgraph for quick static plotting ---\n",
    "H = G.copy()\n",
    "if TOP_N_NODES is not None and H.number_of_nodes() > TOP_N_NODES:\n",
    "    degs = sorted(H.degree, key=lambda x: x[1], reverse=True)[:TOP_N_NODES]\n",
    "    keep = set(n for n,_ in degs)\n",
    "    H = H.subgraph(keep).copy()\n",
    "\n",
    "print(f\"Using subgraph for plotting: Nodes={H.number_of_nodes()}, Edges={H.number_of_edges()}\")\n",
    "\n",
    "pos = nx.spring_layout(H, seed=SEED, k=None)  # Fruchterman-Reingold\n",
    "node_labels = {n: H.nodes[n].get(\"title\", str(n)) for n in H.nodes()}\n",
    "\n",
    "plt.figure(figsize=(12,8))\n",
    "nx.draw_networkx_nodes(H, pos, node_size=200, alpha=0.9)\n",
    "nx.draw_networkx_edges(H, pos, alpha=0.4)\n",
    "nx.draw_networkx_labels(H, pos, labels=node_labels, font_size=8)\n",
    "plt.axis(\"off\")\n",
    "plt.title(\"GraphRAG (Filtered) — static view\")\n",
    "plt.tight_layout()\n",
    "plt.savefig(f\"{VIZ_DIR}/graph_static.png\", dpi=150)\n",
    "plt.show()\n",
    "\n",
    "print(f\"Saved static plot to {VIZ_DIR}/graph_static.png\")\n"
   ]
  },
  {
   "cell_type": "code",
   "execution_count": 13,
   "id": "a4bcad5b",
   "metadata": {},
   "outputs": [
    {
     "name": "stdout",
     "output_type": "stream",
     "text": [
      "Saved interactive HTML to output\\_viz\\graph_interactive.html\n"
     ]
    }
   ],
   "source": [
    "# 目录\n",
    "VIZ.mkdir(parents=True, exist_ok=True)\n",
    "html_path = VIZ / \"graph_interactive.html\"\n",
    "\n",
    "# ---- PyVis 交互图（稳妥版）----\n",
    "try:\n",
    "    from pyvis.network import Network\n",
    "\n",
    "    net = Network(height=\"800px\", width=\"100%\", notebook=False)\n",
    "    net.force_atlas_2based()  # 或者 net.barnes_hut()\n",
    "\n",
    "    # 节点\n",
    "    for n, d in H.nodes(data=True):\n",
    "        title = d.get(\"title\", str(n))\n",
    "        etype = d.get(\"type\", \"\")\n",
    "        net.add_node(str(n),\n",
    "                     label=title,\n",
    "                     title=f\"{title}<br>type={etype}\")\n",
    "\n",
    "    # 边\n",
    "    for u, v, d in H.edges(data=True):\n",
    "        net.add_edge(str(u), str(v),\n",
    "                     title=str(d.get(\"label\", \"\")),\n",
    "                     value=float(d.get(\"weight\", 1.0)))\n",
    "\n",
    "    # 关键：不用 show()，用 write_html（新）或 save_graph（旧）\n",
    "    try:\n",
    "        net.write_html(str(html_path), notebook=False, open_browser=False)\n",
    "    except AttributeError:\n",
    "        # 兼容旧版 pyvis\n",
    "        net.save_graph(str(html_path))\n",
    "\n",
    "    print(f\"Saved interactive HTML to {html_path}\")\n",
    "\n",
    "except Exception as e:\n",
    "    import jinja2\n",
    "    print(\"PyVis step failed:\", e, \"| jinja2 version =\", getattr(jinja2, \"__version__\", \"unknown\"))\n"
   ]
  },
  {
   "cell_type": "markdown",
   "id": "38b20596",
   "metadata": {},
   "source": [
    "\n",
    "## Export CSVs for Neo4j bulk import\n",
    "This creates `nodes.csv` and `edges.csv` under the viz folder. You can then use Neo4j Admin import or APOC to load them.\n"
   ]
  },
  {
   "cell_type": "code",
   "execution_count": 12,
   "id": "981e75cd",
   "metadata": {},
   "outputs": [
    {
     "name": "stdout",
     "output_type": "stream",
     "text": [
      "Exported for Neo4j: output\\_viz\\nodes.csv, output\\_viz\\edges.csv\n"
     ]
    }
   ],
   "source": [
    "nodes_csv = VIZ / \"nodes.csv\"\n",
    "edges_csv = VIZ / \"edges.csv\"\n",
    "\n",
    "nodes_df = pd.DataFrame([\n",
    "    {\"id\": n, \"name\": H.nodes[n].get(\"title\", n), \"etype\": H.nodes[n].get(\"type\", \"Entity\")}\n",
    "    for n in H.nodes()\n",
    "])\n",
    "edges_df = pd.DataFrame([\n",
    "    {\"source\": u, \"target\": v, \"weight\": d.get(\"weight\", 1.0), \"label\": d.get(\"label\",\"RELATED\")}\n",
    "    for u, v, d in H.edges(data=True)\n",
    "])\n",
    "\n",
    "nodes_df.to_csv(nodes_csv, index=False, encoding=\"utf-8\")\n",
    "edges_df.to_csv(edges_csv, index=False, encoding=\"utf-8\")\n",
    "print(f\"Exported for Neo4j: {nodes_csv}, {edges_csv}\")"
   ]
  },
  {
   "cell_type": "code",
   "execution_count": null,
   "id": "07537b49",
   "metadata": {},
   "outputs": [],
   "source": []
  }
 ],
 "metadata": {
  "kernelspec": {
   "display_name": ".venv",
   "language": "python",
   "name": "python3"
  },
  "language_info": {
   "codemirror_mode": {
    "name": "ipython",
    "version": 3
   },
   "file_extension": ".py",
   "mimetype": "text/x-python",
   "name": "python",
   "nbconvert_exporter": "python",
   "pygments_lexer": "ipython3",
   "version": "3.11.5"
  }
 },
 "nbformat": 4,
 "nbformat_minor": 5
}
